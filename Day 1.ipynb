{
 "cells": [
  {
   "cell_type": "code",
   "execution_count": 1,
   "id": "59b21117-ce4d-44bc-a9ae-cd1ef9a380de",
   "metadata": {},
   "outputs": [
    {
     "name": "stdout",
     "output_type": "stream",
     "text": [
      "Rahul Bansal\n"
     ]
    }
   ],
   "source": [
    "print(\"Rahul Bansal\")"
   ]
  },
  {
   "cell_type": "code",
   "execution_count": 4,
   "id": "6b8937b3-a5ef-475d-a14b-6628b5b01ff3",
   "metadata": {},
   "outputs": [
    {
     "name": "stdout",
     "output_type": "stream",
     "text": [
      "Rahul Bansal\n",
      "A\n",
      "354612\n"
     ]
    }
   ],
   "source": [
    "name = \"Rahul Bansal\"\n",
    "grade = 'A'\n",
    "salary = 354612\n",
    "print(name)\n",
    "print(grade)\n",
    "print(salary)"
   ]
  },
  {
   "cell_type": "code",
   "execution_count": 5,
   "id": "0f2922d8-53e7-4c1b-b572-4b44d9035bcf",
   "metadata": {},
   "outputs": [
    {
     "name": "stdout",
     "output_type": "stream",
     "text": [
      "Rahul Bansal A 354612\n"
     ]
    }
   ],
   "source": [
    "name = \"Rahul Bansal\"\n",
    "grade = 'A'\n",
    "salary = 354612\n",
    "print(name,grade,salary)"
   ]
  },
  {
   "cell_type": "code",
   "execution_count": 6,
   "id": "d0d61c6f-2327-4248-a87c-c057f06de929",
   "metadata": {},
   "outputs": [
    {
     "name": "stdout",
     "output_type": "stream",
     "text": [
      "Rahul BansalA354612\n"
     ]
    }
   ],
   "source": [
    "# Typecasting convert datatype into another daatatypes.\n",
    "name = \"Rahul Bansal\"\n",
    "grade = 'A'\n",
    "salary = str(354612)\n",
    "print(name + grade + salary)"
   ]
  },
  {
   "cell_type": "code",
   "execution_count": 11,
   "id": "52dfa2dd-fa0d-457d-bdfe-7d91d739f179",
   "metadata": {},
   "outputs": [
    {
     "name": "stdout",
     "output_type": "stream",
     "text": [
      "<class 'int'>\n",
      "<class 'str'>\n",
      "Rahul BansalA354612\n"
     ]
    }
   ],
   "source": [
    "# Find the datatype of a variable.\n",
    "name = \"Rahul Bansal\"\n",
    "grade = 'A'\n",
    "salary = 354612\n",
    "print(type(salary))\n",
    "salary = str(354612)\n",
    "print(type(salary))\n",
    "print(name + grade + salary)"
   ]
  },
  {
   "cell_type": "code",
   "execution_count": 5,
   "id": "323a09d0-6d06-4b82-abec-4651afad75fe",
   "metadata": {},
   "outputs": [
    {
     "name": "stdout",
     "output_type": "stream",
     "text": [
      "<class 'int'>\n",
      "<class 'float'>\n",
      "Rahul Bansal A 354612.0 <class 'float'>\n"
     ]
    }
   ],
   "source": [
    "# change the integer to float.\n",
    "name = \"Rahul Bansal\"\n",
    "grade = 'A'\n",
    "salary = 354612\n",
    "print(type(salary))\n",
    "salary = float(354612)\n",
    "print(type(salary))\n",
    "print(name , grade , salary , type(salary))"
   ]
  },
  {
   "cell_type": "code",
   "execution_count": 3,
   "id": "ffff3b25-2f0e-462b-97d0-32faae34de52",
   "metadata": {},
   "outputs": [
    {
     "name": "stdin",
     "output_type": "stream",
     "text": [
      "Enter your Age:  21\n",
      "Enter your Gender:  male\n"
     ]
    },
    {
     "name": "stdout",
     "output_type": "stream",
     "text": [
      "Rahul Bansal A 354612 21 male\n"
     ]
    }
   ],
   "source": [
    "name = \"Rahul Bansal\"\n",
    "grade = 'A'\n",
    "salary = 354612\n",
    "age =input(\"Enter your Age: \")\n",
    "gender =input(\"Enter your Gender: \")\n",
    "print(name,grade,salary,age,gender)"
   ]
  },
  {
   "cell_type": "code",
   "execution_count": 2,
   "id": "f6128cc8-c1b3-49fa-8807-a85f6953a93f",
   "metadata": {},
   "outputs": [
    {
     "name": "stdin",
     "output_type": "stream",
     "text": [
      "Enter born year:  2003\n",
      "Enter current year:  2024\n"
     ]
    },
    {
     "name": "stdout",
     "output_type": "stream",
     "text": [
      "My Age is 21\n"
     ]
    }
   ],
   "source": [
    "born_year = int(input(\"Enter born year: \"))\n",
    "current_year = int(input(\"Enter current year: \"))\n",
    "age = current_year - born_year\n",
    "print(\"My Age is\", age)                   "
   ]
  },
  {
   "cell_type": "code",
   "execution_count": 4,
   "id": "6e3c5a12-8f97-4559-a435-ed716bcd0544",
   "metadata": {},
   "outputs": [
    {
     "name": "stdin",
     "output_type": "stream",
     "text": [
      "Enter born year:  2003\n",
      "Enter current year:  2024\n"
     ]
    },
    {
     "name": "stdout",
     "output_type": "stream",
     "text": [
      "My Age is 21\n"
     ]
    }
   ],
   "source": [
    "born_year = int(input(\"Enter born year: \"))\n",
    "current_year = int(input(\"Enter current year: \"))\n",
    "print(\"My Age is\", current_year - born_year) "
   ]
  },
  {
   "cell_type": "code",
   "execution_count": null,
   "id": "13c0f903-8723-441a-a1fd-907836094c65",
   "metadata": {},
   "outputs": [],
   "source": []
  }
 ],
 "metadata": {
  "kernelspec": {
   "display_name": "Python 3 (ipykernel)",
   "language": "python",
   "name": "python3"
  },
  "language_info": {
   "codemirror_mode": {
    "name": "ipython",
    "version": 3
   },
   "file_extension": ".py",
   "mimetype": "text/x-python",
   "name": "python",
   "nbconvert_exporter": "python",
   "pygments_lexer": "ipython3",
   "version": "3.12.6"
  }
 },
 "nbformat": 4,
 "nbformat_minor": 5
}
