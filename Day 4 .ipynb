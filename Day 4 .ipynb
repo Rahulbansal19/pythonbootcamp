{
 "cells": [
  {
   "cell_type": "code",
   "execution_count": 3,
   "id": "f0aa1804-d5dd-4d2f-bdbe-99008b6b1e53",
   "metadata": {},
   "outputs": [
    {
     "name": "stdout",
     "output_type": "stream",
     "text": [
      "<class 'tuple'>\n"
     ]
    }
   ],
   "source": [
    "# Tuples\n",
    "# tuples can store the multiple data but data can't be change\n",
    "tuple =(\"ravi\",\"ryan\",\"aryan\",\"ravi\")\n",
    "print(type(tuple))"
   ]
  },
  {
   "cell_type": "code",
   "execution_count": 4,
   "id": "dbb9473e-a476-4542-b468-cc06fbf6db49",
   "metadata": {},
   "outputs": [
    {
     "name": "stdout",
     "output_type": "stream",
     "text": [
      "('ravi', 'ryan', 'aryan', 'ravi')\n"
     ]
    }
   ],
   "source": [
    "print(tuple)\n",
    "# tuple can store duplicate data"
   ]
  },
  {
   "cell_type": "code",
   "execution_count": 5,
   "id": "97ba922d-7623-4407-ae7d-2adf043f1a1a",
   "metadata": {},
   "outputs": [
    {
     "name": "stdout",
     "output_type": "stream",
     "text": [
      "ryan\n"
     ]
    }
   ],
   "source": [
    "# print the name 'Ryan' with indexing\n",
    "print(tuple[1])"
   ]
  },
  {
   "cell_type": "code",
   "execution_count": 6,
   "id": "a4901ba7-6416-4914-9072-4fc69543f3a8",
   "metadata": {
    "scrolled": true
   },
   "outputs": [
    {
     "ename": "TypeError",
     "evalue": "'tuple' object does not support item assignment",
     "output_type": "error",
     "traceback": [
      "\u001b[1;31m---------------------------------------------------------------------------\u001b[0m",
      "\u001b[1;31mTypeError\u001b[0m                                 Traceback (most recent call last)",
      "Cell \u001b[1;32mIn[6], line 1\u001b[0m\n\u001b[1;32m----> 1\u001b[0m \u001b[38;5;28;43mtuple\u001b[39;49m\u001b[43m[\u001b[49m\u001b[38;5;241;43m1\u001b[39;49m\u001b[43m]\u001b[49m \u001b[38;5;241m=\u001b[39m\u001b[38;5;124m\"\u001b[39m\u001b[38;5;124mshivam\u001b[39m\u001b[38;5;124m\"\u001b[39m\n\u001b[0;32m      2\u001b[0m \u001b[38;5;28mprint\u001b[39m(\u001b[38;5;28mtuple\u001b[39m)\n",
      "\u001b[1;31mTypeError\u001b[0m: 'tuple' object does not support item assignment"
     ]
    }
   ],
   "source": [
    "tuple[1] =\"shivam\"\n",
    "print(tuple)\n",
    "# In tuple we can't update the data."
   ]
  },
  {
   "cell_type": "code",
   "execution_count": 8,
   "id": "836bf006-cbed-4bfb-ac7f-639590093224",
   "metadata": {},
   "outputs": [
    {
     "name": "stdout",
     "output_type": "stream",
     "text": [
      "ravi\n",
      "ryan\n",
      "aryan\n",
      "ravi\n"
     ]
    }
   ],
   "source": [
    "# Using foor loop print tuple\n",
    "for value in tuple:\n",
    "    print(value)"
   ]
  },
  {
   "cell_type": "code",
   "execution_count": 9,
   "id": "bd8388fe-d1d4-41da-87dd-9b0060ad1bec",
   "metadata": {},
   "outputs": [],
   "source": [
    "# Dictionary\n",
    "# It can store multiple data in key value pair\n",
    "dict ={\n",
    "    \"name\":\"Rahul\",\n",
    "    \"email\":\"rb19@gmail.com\",\n",
    "    \"mobile no.\":\"1234567890\"\n",
    "}    "
   ]
  },
  {
   "cell_type": "code",
   "execution_count": 10,
   "id": "5a1835f4-6f4f-4545-8598-2fd634774197",
   "metadata": {},
   "outputs": [
    {
     "name": "stdout",
     "output_type": "stream",
     "text": [
      "<class 'dict'>\n"
     ]
    }
   ],
   "source": [
    "print(type(dict))"
   ]
  },
  {
   "cell_type": "code",
   "execution_count": 11,
   "id": "597ec767-e910-4fb1-8c2b-4ab10b98a85c",
   "metadata": {},
   "outputs": [
    {
     "name": "stdout",
     "output_type": "stream",
     "text": [
      "{'name': 'Rahul', 'email': 'rb19@gmail.com', 'mobile no.': '1234567890'}\n"
     ]
    }
   ],
   "source": [
    "print(dict)"
   ]
  },
  {
   "cell_type": "code",
   "execution_count": 12,
   "id": "91738f35-4efb-44f8-b7f9-68ad90c2bfef",
   "metadata": {},
   "outputs": [
    {
     "name": "stdout",
     "output_type": "stream",
     "text": [
      "Rahul\n",
      "rb19@gmail.com\n",
      "1234567890\n"
     ]
    }
   ],
   "source": [
    "# USing for loop print Dictionary\n",
    "for item in dict:\n",
    "    print(dict[item])"
   ]
  },
  {
   "cell_type": "code",
   "execution_count": 13,
   "id": "5585db2a-81d2-485b-a97e-2b4a80ee8dd2",
   "metadata": {},
   "outputs": [
    {
     "name": "stdout",
     "output_type": "stream",
     "text": [
      "rb19@gmail.com\n"
     ]
    }
   ],
   "source": [
    "# To print the value of any key\n",
    "print(dict.get(\"email\"))"
   ]
  },
  {
   "cell_type": "code",
   "execution_count": 16,
   "id": "aa6b9fa3-a473-4971-8798-69e46135248c",
   "metadata": {},
   "outputs": [
    {
     "name": "stdout",
     "output_type": "stream",
     "text": [
      "{'name': 'Rahul', 'email': 'mca24_26@gmail.com', 'mobile no.': '1234567890'}\n"
     ]
    }
   ],
   "source": [
    "# To modify the Dictionary\n",
    "dict[\"email\"] =\"mca24_26@gmail.com\"\n",
    "print(dict)"
   ]
  },
  {
   "cell_type": "code",
   "execution_count": 20,
   "id": "a72f2071-7541-4bba-be5c-fb8233686418",
   "metadata": {},
   "outputs": [
    {
     "name": "stdout",
     "output_type": "stream",
     "text": [
      "I  am from Ghaziabad\n"
     ]
    }
   ],
   "source": [
    "# OOPS (Object Oriented Programming Structure)\n",
    "# Class & Object\n",
    "class Rahul:\n",
    "    age =21\n",
    "    print(\"I  am from Ghaziabad\")"
   ]
  },
  {
   "cell_type": "code",
   "execution_count": 21,
   "id": "d71a0183-e37e-460c-95a0-786d3a81d8d3",
   "metadata": {},
   "outputs": [
    {
     "name": "stdout",
     "output_type": "stream",
     "text": [
      "21\n"
     ]
    }
   ],
   "source": [
    "# Create the object of the class\n",
    "a= Rahul()\n",
    "print(a.age)"
   ]
  },
  {
   "cell_type": "code",
   "execution_count": 22,
   "id": "3bd9018e-dd12-4b8f-a65e-f0266807e32e",
   "metadata": {},
   "outputs": [
    {
     "name": "stdin",
     "output_type": "stream",
     "text": [
      "Enter born year: 2003\n",
      "Enter Current year: 2024\n"
     ]
    },
    {
     "name": "stdout",
     "output_type": "stream",
     "text": [
      "21\n"
     ]
    }
   ],
   "source": [
    "# Using class print  how old you are\n",
    "bornyear =int(input(\"Enter born year:\"))\n",
    "currentyear =int(input(\"Enter Current year:\"))\n",
    "class Age_calculator:\n",
    "    ageinyear =currentyear-bornyear\n",
    "age =Age_calculator()\n",
    "print(age.ageinyear)    "
   ]
  },
  {
   "cell_type": "code",
   "execution_count": 30,
   "id": "d77d1419-0e39-4ef2-a36a-2ac5f260eb58",
   "metadata": {},
   "outputs": [
    {
     "name": "stdout",
     "output_type": "stream",
     "text": [
      "25 may 2003 rahul\n"
     ]
    }
   ],
   "source": [
    "# Polymorphism  Method Overloading\n",
    "def age(dob):\n",
    "    print(dob)\n",
    "\n",
    "def age(dob, name):\n",
    "    print(dob, name)\n",
    "\n",
    "#x =age(\"25 may 2003\")\n",
    "y =age(\"25 may 2003\",\"rahul\")"
   ]
  },
  {
   "cell_type": "code",
   "execution_count": null,
   "id": "9eb63b74-6387-4a95-89e1-76b344ab812e",
   "metadata": {},
   "outputs": [],
   "source": []
  }
 ],
 "metadata": {
  "kernelspec": {
   "display_name": "Python 3 (ipykernel)",
   "language": "python",
   "name": "python3"
  },
  "language_info": {
   "codemirror_mode": {
    "name": "ipython",
    "version": 3
   },
   "file_extension": ".py",
   "mimetype": "text/x-python",
   "name": "python",
   "nbconvert_exporter": "python",
   "pygments_lexer": "ipython3",
   "version": "3.12.6"
  }
 },
 "nbformat": 4,
 "nbformat_minor": 5
}
