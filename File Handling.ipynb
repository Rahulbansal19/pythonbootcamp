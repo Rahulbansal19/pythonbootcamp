{
 "cells": [
  {
   "cell_type": "code",
   "execution_count": 1,
   "id": "9eb7d61b-0ff0-42a3-9aec-96df8481ab3d",
   "metadata": {},
   "outputs": [],
   "source": [
    "file = open(\"rahul.txt\",\"w\")\n",
    "file.write(\"My name is Rahul Bansal\")\n",
    "file.close()"
   ]
  },
  {
   "cell_type": "code",
   "execution_count": 2,
   "id": "3c0c527a-88a6-4247-ab92-c42549335ae8",
   "metadata": {},
   "outputs": [
    {
     "name": "stdout",
     "output_type": "stream",
     "text": [
      "My name is Rahul Bansal\n"
     ]
    }
   ],
   "source": [
    "file = open(\"rahul.txt\",\"r\")\n",
    "print(file.read())"
   ]
  },
  {
   "cell_type": "code",
   "execution_count": 7,
   "id": "aa399b75-cdf3-4f1d-935f-eb4124486312",
   "metadata": {},
   "outputs": [
    {
     "name": "stdin",
     "output_type": "stream",
     "text": [
      "Enter your name: Rahul\n",
      "Enter your College Name: ITS\n",
      "Enter your Email ID: rb19@gmail.com\n"
     ]
    }
   ],
   "source": [
    "file = open(\"Pyt.txt\",\"w\")\n",
    "file.write(input(\"Enter your name:\"))\n",
    "file.write(input(\"Enter your College Name:\"))\n",
    "file.write(input(\"Enter your Email ID:\"))\n",
    "file.close()"
   ]
  },
  {
   "cell_type": "code",
   "execution_count": 8,
   "id": "ce66e713-daf5-49c6-b0ec-132374d06a2b",
   "metadata": {},
   "outputs": [
    {
     "name": "stdout",
     "output_type": "stream",
     "text": [
      "RahulITSrb19@gmail.com\n"
     ]
    }
   ],
   "source": [
    "file = open(\"pyt.txt\",\"r\")\n",
    "print(file.read())"
   ]
  },
  {
   "cell_type": "code",
   "execution_count": 1,
   "id": "87d16319-3af2-4ebb-92ac-ef383efbaa44",
   "metadata": {},
   "outputs": [
    {
     "name": "stdin",
     "output_type": "stream",
     "text": [
      "Enter Your Name: Rahul\n",
      "Enter Your College Name: ITS\n",
      "Enter Your Email ID: rb18@gmail.com\n"
     ]
    }
   ],
   "source": [
    "file = open(\"my.txt\",\"w\")\n",
    "name =input(\"Enter Your Name:\")\n",
    "collegename =input(\"Enter Your College Name:\")\n",
    "email =input(\"Enter Your Email ID:\")\n",
    "file.write(name+collegename+email)\n",
    "file.close()"
   ]
  },
  {
   "cell_type": "code",
   "execution_count": 2,
   "id": "15f432f9-0c46-4d22-a864-4631cc33fa50",
   "metadata": {},
   "outputs": [
    {
     "name": "stdout",
     "output_type": "stream",
     "text": [
      "RahulITSrb18@gmail.com\n"
     ]
    }
   ],
   "source": [
    "file = open(\"my.txt\",\"r\")\n",
    "print(file.read())"
   ]
  },
  {
   "cell_type": "code",
   "execution_count": null,
   "id": "56b924f6-3f1e-40b3-b260-39c28f16314d",
   "metadata": {},
   "outputs": [],
   "source": []
  }
 ],
 "metadata": {
  "kernelspec": {
   "display_name": "Python 3 (ipykernel)",
   "language": "python",
   "name": "python3"
  },
  "language_info": {
   "codemirror_mode": {
    "name": "ipython",
    "version": 3
   },
   "file_extension": ".py",
   "mimetype": "text/x-python",
   "name": "python",
   "nbconvert_exporter": "python",
   "pygments_lexer": "ipython3",
   "version": "3.12.6"
  }
 },
 "nbformat": 4,
 "nbformat_minor": 5
}
