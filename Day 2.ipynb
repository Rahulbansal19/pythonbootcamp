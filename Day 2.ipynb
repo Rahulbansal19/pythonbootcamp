{
 "cells": [
  {
   "cell_type": "code",
   "execution_count": 8,
   "id": "da7ae18e-dceb-4971-b9d5-f178a6c92a82",
   "metadata": {},
   "outputs": [
    {
     "name": "stdout",
     "output_type": "stream",
     "text": [
      "Convert rupees into dollars:\n"
     ]
    },
    {
     "name": "stdin",
     "output_type": "stream",
     "text": [
      "Enter the amount in Rs.: 2\n"
     ]
    },
    {
     "name": "stdout",
     "output_type": "stream",
     "text": [
      "2 convert into dollar 0.023809523809523808\n"
     ]
    }
   ],
   "source": [
    "# convert currency Rupees to Dollar\n",
    "print(\"Convert rupees into dollars:\")\n",
    "rupeesAmount = int(input(\"Enter the amount in Rs.:\"))\n",
    "rsintodollar = (rupeesAmount/84)\n",
    "print(rupeesAmount,\"convert into dollar\" , rsintodollar)"
   ]
  },
  {
   "cell_type": "code",
   "execution_count": 7,
   "id": "759a6abd-f0c6-4c46-afef-f1df4a129b98",
   "metadata": {},
   "outputs": [
    {
     "name": "stdout",
     "output_type": "stream",
     "text": [
      "Convert dollars into rupees:\n"
     ]
    },
    {
     "name": "stdin",
     "output_type": "stream",
     "text": [
      "Enter the amount in $.: 2\n"
     ]
    },
    {
     "name": "stdout",
     "output_type": "stream",
     "text": [
      "2 convert into rupees 168\n"
     ]
    }
   ],
   "source": [
    "# Convert Dollar to Rupees\n",
    "print(\"Convert dollars into rupees:\")\n",
    "dollarAmount = int(input(\"Enter the amount in $.:\"))\n",
    "dollarintors = (dollarAmount*84)\n",
    "print(dollarAmount,\"convert into rupees\",dollarintors);"
   ]
  },
  {
   "cell_type": "code",
   "execution_count": 10,
   "id": "8e3f1af3-61dd-4f51-9f20-d0918deb1627",
   "metadata": {},
   "outputs": [
    {
     "name": "stdin",
     "output_type": "stream",
     "text": [
      "Enter your Age 21\n"
     ]
    },
    {
     "name": "stdout",
     "output_type": "stream",
     "text": [
      "You are eligible for Vote\n"
     ]
    }
   ],
   "source": [
    "# eligible for vote or not\n",
    "userage = int(input(\"Enter your Age\"))\n",
    "if (userage>17):\n",
    "    print(\"You are eligible for Vote\")\n",
    "else:\n",
    "    print(\"You are not eligible for Vote\")"
   ]
  },
  {
   "cell_type": "code",
   "execution_count": 26,
   "id": "4edee717-97cd-4d51-a81a-033e723acb0b",
   "metadata": {},
   "outputs": [
    {
     "name": "stdin",
     "output_type": "stream",
     "text": [
      "Enter your Age 16\n",
      "Enter your Gender female\n"
     ]
    },
    {
     "name": "stdout",
     "output_type": "stream",
     "text": [
      "You are not eligible for job\n"
     ]
    }
   ],
   "source": [
    "# Check the user eligible for job or not.\n",
    "#Method - 1\n",
    "userage = int(input(\"Enter your Age\"))\n",
    "gender = input(\"Enter your Gender\")\n",
    "if (userage>17 and gender == \"female\"):\n",
    "    print(\"You are eligible for Govt. job\")\n",
    "elif (userage>17 and gender == \"male\"):\n",
    "    print(\"You are eligible for Private job\")\n",
    "else:\n",
    "    print(\"You are not eligible for job\")"
   ]
  },
  {
   "cell_type": "code",
   "execution_count": 33,
   "id": "0949cdbe-043a-4657-8597-699d706c334d",
   "metadata": {},
   "outputs": [
    {
     "name": "stdin",
     "output_type": "stream",
     "text": [
      "Enter your Age 21\n",
      "Enter your Gender male\n"
     ]
    },
    {
     "name": "stdout",
     "output_type": "stream",
     "text": [
      "You are eligible for Private job\n"
     ]
    }
   ],
   "source": [
    "#Method - 2\n",
    "userage = int(input(\"Enter your Age\"))\n",
    "gender = input(\"Enter your Gender\")\n",
    "if (userage>17):\n",
    "    if(gender == \"female\"):\n",
    "        print(\"You are eligible for Govt. job\")\n",
    "    elif (gender == \"male\"):\n",
    "        print(\"You are eligible for Private job\")\n",
    "    else:\n",
    "        print(\"Your gender not exists\")\n",
    "else:\n",
    "    print(\"You are not eligible for job\")"
   ]
  },
  {
   "cell_type": "code",
   "execution_count": 41,
   "id": "bab74417-3bd3-4eae-bc7d-8ae65ee9fbc0",
   "metadata": {},
   "outputs": [
    {
     "name": "stdin",
     "output_type": "stream",
     "text": [
      "Enter the vale of A: 15\n",
      "Enter the vale of B: 45\n",
      "Enter the vale of C: 76\n"
     ]
    },
    {
     "name": "stdout",
     "output_type": "stream",
     "text": [
      "C is Greatest No. = 76\n"
     ]
    }
   ],
   "source": [
    "# wap to check the greatest number among 3 numbers.\n",
    "a = int(input(\"Enter the vale of A:\"))\n",
    "b = int(input(\"Enter the vale of B:\"))\n",
    "c = int(input(\"Enter the vale of C:\"))\n",
    "if (a>b):\n",
    "        print(\"A is Greatest No. =\",a)\n",
    "elif (b>c):\n",
    "        print(\"B is Greatest No. =\",b)\n",
    "elif (c>a):\n",
    "        print(\"C is Greatest No. =\",c)"
   ]
  },
  {
   "cell_type": "code",
   "execution_count": 44,
   "id": "dde38998-97aa-4ed4-8c13-ce7da5530f84",
   "metadata": {},
   "outputs": [
    {
     "name": "stdout",
     "output_type": "stream",
     "text": [
      "<class 'list'>\n",
      "['pawan', 'ryan', 'ravi', 1, 2, 3, 1]\n"
     ]
    }
   ],
   "source": [
    "# switch condition is replacement of multiple if else block.\n",
    "# List\n",
    "name = [\"pawan\",\"ryan\",\"ravi\",1,2,3,1]\n",
    "print(type(name))\n",
    "print(name)"
   ]
  },
  {
   "cell_type": "code",
   "execution_count": null,
   "id": "c95cc274-b379-4a0b-8910-36e7a43ad897",
   "metadata": {},
   "outputs": [],
   "source": []
  }
 ],
 "metadata": {
  "kernelspec": {
   "display_name": "Python 3 (ipykernel)",
   "language": "python",
   "name": "python3"
  },
  "language_info": {
   "codemirror_mode": {
    "name": "ipython",
    "version": 3
   },
   "file_extension": ".py",
   "mimetype": "text/x-python",
   "name": "python",
   "nbconvert_exporter": "python",
   "pygments_lexer": "ipython3",
   "version": "3.12.6"
  }
 },
 "nbformat": 4,
 "nbformat_minor": 5
}
