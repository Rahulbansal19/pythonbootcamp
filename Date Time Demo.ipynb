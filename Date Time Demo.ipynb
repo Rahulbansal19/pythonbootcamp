{
 "cells": [
  {
   "cell_type": "code",
   "execution_count": 6,
   "id": "e36e7ab9-0096-4fdb-a32a-7184e319e6f4",
   "metadata": {},
   "outputs": [
    {
     "name": "stdout",
     "output_type": "stream",
     "text": [
      "2024-09-13 11:42:01.804120\n"
     ]
    }
   ],
   "source": [
    "import datetime\n",
    "x = datetime.datetime.now()\n",
    "print(x)"
   ]
  },
  {
   "cell_type": "code",
   "execution_count": 7,
   "id": "0c7780f6-e623-47f2-b504-abbeed534db8",
   "metadata": {},
   "outputs": [
    {
     "name": "stdout",
     "output_type": "stream",
     "text": [
      "11\n"
     ]
    }
   ],
   "source": [
    "import datetime\n",
    "x = datetime.datetime.now()\n",
    "print(x.hour)"
   ]
  },
  {
   "cell_type": "code",
   "execution_count": 8,
   "id": "c354fd47-ea1e-4b41-a668-daa5c88f9bb6",
   "metadata": {},
   "outputs": [
    {
     "name": "stdout",
     "output_type": "stream",
     "text": [
      "2024\n"
     ]
    }
   ],
   "source": [
    "import datetime\n",
    "x = datetime.datetime.now()\n",
    "print(x.year)"
   ]
  },
  {
   "cell_type": "code",
   "execution_count": 9,
   "id": "a0c07fd0-e7bb-4add-939c-3f3f0910ebf7",
   "metadata": {},
   "outputs": [
    {
     "name": "stdout",
     "output_type": "stream",
     "text": [
      "9\n"
     ]
    }
   ],
   "source": [
    "import datetime\n",
    "x = datetime.datetime.now()\n",
    "print(x.month)"
   ]
  },
  {
   "cell_type": "code",
   "execution_count": null,
   "id": "2b9715e2-0a92-4289-bbbc-63d08ac2f6b3",
   "metadata": {},
   "outputs": [],
   "source": []
  }
 ],
 "metadata": {
  "kernelspec": {
   "display_name": "Python 3 (ipykernel)",
   "language": "python",
   "name": "python3"
  },
  "language_info": {
   "codemirror_mode": {
    "name": "ipython",
    "version": 3
   },
   "file_extension": ".py",
   "mimetype": "text/x-python",
   "name": "python",
   "nbconvert_exporter": "python",
   "pygments_lexer": "ipython3",
   "version": "3.12.6"
  }
 },
 "nbformat": 4,
 "nbformat_minor": 5
}
