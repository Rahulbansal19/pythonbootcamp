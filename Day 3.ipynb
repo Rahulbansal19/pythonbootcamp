{
 "cells": [
  {
   "cell_type": "code",
   "execution_count": 33,
   "id": "fe8d18cf-e11a-45cf-ba3f-984f1a4a207b",
   "metadata": {},
   "outputs": [
    {
     "name": "stdout",
     "output_type": "stream",
     "text": [
      "before= ['ravi', 'aryan', 'shivam']\n",
      "after= ['ravi', 'aryan', 'shivam', 'anshul']\n"
     ]
    }
   ],
   "source": [
    "# Append function\n",
    "# add the name in the last in list\n",
    "name  =  [\"ravi\",\"aryan\",\"shivam\"]\n",
    "print(\"before=\",name)\n",
    "name.append(\"anshul\")\n",
    "print(\"after=\",name)"
   ]
  },
  {
   "cell_type": "code",
   "execution_count": 34,
   "id": "f06ddd27-b035-48c6-87de-8594a3d8793a",
   "metadata": {},
   "outputs": [
    {
     "name": "stdout",
     "output_type": "stream",
     "text": [
      "Add name at index 0: ['brij', 'ravi', 'aryan', 'shivam', 'anshul']\n"
     ]
    }
   ],
   "source": [
    "# Insert function\n",
    "# to add name in specific position in list\n",
    "name.insert(0,\"brij\")\n",
    "# print after adding name at index 0\n",
    "print(\"Add name at index 0:\",name)"
   ]
  },
  {
   "cell_type": "code",
   "execution_count": 35,
   "id": "f64ff094-2e1d-49e3-92d2-14fa0db6c203",
   "metadata": {},
   "outputs": [
    {
     "name": "stdout",
     "output_type": "stream",
     "text": [
      "['ravi', 'aryan', 'shivam', 'anshul']\n"
     ]
    }
   ],
   "source": [
    "# Remove function\n",
    "# to remove the name in list\n",
    "name.remove(\"brij\")\n",
    "print(name)"
   ]
  },
  {
   "cell_type": "code",
   "execution_count": 32,
   "id": "316e2197-1281-406f-a86b-aed70c541b2d",
   "metadata": {},
   "outputs": [
    {
     "name": "stdout",
     "output_type": "stream",
     "text": [
      "['aryan', 'shivam', 'anshul']\n"
     ]
    }
   ],
   "source": [
    "# # Pop function\n",
    "# # It follows last in first out \n",
    "# name.pop(0)\n",
    "# print(name)"
   ]
  },
  {
   "cell_type": "code",
   "execution_count": 36,
   "id": "814ae285-af37-43f6-8d3a-d160c9ecc31a",
   "metadata": {},
   "outputs": [
    {
     "name": "stdout",
     "output_type": "stream",
     "text": [
      "['anshul', 'aryan', 'ravi', 'shivam']\n"
     ]
    }
   ],
   "source": [
    "# To Sort the list\n",
    "name.sort()\n",
    "print(name)"
   ]
  },
  {
   "cell_type": "code",
   "execution_count": 17,
   "id": "d426ec92-b9f9-4ed0-b55b-0f10d6ad91da",
   "metadata": {},
   "outputs": [],
   "source": [
    "# # to clear the list\n",
    "# name.clear()\n",
    "# print(name)"
   ]
  },
  {
   "cell_type": "code",
   "execution_count": 37,
   "id": "ed4943e6-f9ac-4ef4-b05e-dc273025726c",
   "metadata": {},
   "outputs": [
    {
     "name": "stdout",
     "output_type": "stream",
     "text": [
      "anshul\n",
      "aryan\n",
      "ravi\n",
      "shivam\n"
     ]
    }
   ],
   "source": [
    "# Foor Loop\n",
    "# To print elements in the given list\n",
    "for names in name:\n",
    "    print(names)"
   ]
  },
  {
   "cell_type": "code",
   "execution_count": null,
   "id": "afec1aa7-d1a5-4a31-bc66-cbe36943c121",
   "metadata": {},
   "outputs": [],
   "source": [
    "list=[\"ramesh\",\"ravi\",\"prince\",\"harsh\",\"divyansh\"]\n",
    "print(list)\n",
    "list.remove(\"ravi\")\n",
    "print(list)\n",
    "# list.sort(\n",
    "# print(list)"
   ]
  },
  {
   "cell_type": "code",
   "execution_count": 41,
   "id": "50f5dad7-ae9c-4785-9bbc-2599ce8e1342",
   "metadata": {},
   "outputs": [
    {
     "name": "stdout",
     "output_type": "stream",
     "text": [
      "1\n",
      "2\n",
      "3\n",
      "4\n",
      "5\n",
      "6\n",
      "7\n",
      "8\n",
      "9\n",
      "10\n"
     ]
    }
   ],
   "source": [
    "# To print the No. 1 to 10\n",
    "for i in range(1,11):\n",
    "    print(i)"
   ]
  },
  {
   "cell_type": "code",
   "execution_count": 50,
   "id": "8c092e25-b9f0-43ff-88ba-745ea985e6fb",
   "metadata": {},
   "outputs": [
    {
     "name": "stdout",
     "output_type": "stream",
     "text": [
      "2\n",
      "4\n",
      "6\n",
      "8\n",
      "10\n"
     ]
    }
   ],
   "source": [
    "# To print even no. between 1-10\n",
    "# Method-1\n",
    "for i in range(1,11):\n",
    "    if i % 2==0:\n",
    "        print(i)"
   ]
  },
  {
   "cell_type": "code",
   "execution_count": 51,
   "id": "63e9208e-7d77-4c78-8f0a-6a07b2d2cc28",
   "metadata": {},
   "outputs": [
    {
     "name": "stdout",
     "output_type": "stream",
     "text": [
      "2\n",
      "4\n",
      "6\n",
      "8\n",
      "10\n"
     ]
    }
   ],
   "source": [
    "# Method-2\n",
    "for i in range(2,11,2):\n",
    "    print(i)"
   ]
  },
  {
   "cell_type": "code",
   "execution_count": 54,
   "id": "83108db0-e51d-49e6-81be-a9fe88bf46a4",
   "metadata": {},
   "outputs": [
    {
     "name": "stdout",
     "output_type": "stream",
     "text": [
      "{'yash', 'ryan', 'anshul', 'ravi'}\n"
     ]
    }
   ],
   "source": [
    "# Sets\n",
    "set ={\"ryan\",\"yash\",\"anshul\"}\n",
    "print(set)"
   ]
  },
  {
   "cell_type": "code",
   "execution_count": 55,
   "id": "c00fbc9a-91eb-4e55-abad-a253d28a788e",
   "metadata": {},
   "outputs": [
    {
     "name": "stdout",
     "output_type": "stream",
     "text": [
      "{'yash', 'ryan', 'anshul', 'ravi'}\n"
     ]
    }
   ],
   "source": [
    "# To add the element in tuple\n",
    "set.add(\"ravi\")\n",
    "print(set)"
   ]
  },
  {
   "cell_type": "code",
   "execution_count": 56,
   "id": "d35bb663-ade6-4d62-a013-38145e9f883c",
   "metadata": {},
   "outputs": [
    {
     "name": "stdout",
     "output_type": "stream",
     "text": [
      "{'yash', 'ryan', 'anshul'}\n"
     ]
    }
   ],
   "source": [
    "# To remove the element in tuple\n",
    "set.remove(\"ravi\")\n",
    "print(set)"
   ]
  },
  {
   "cell_type": "code",
   "execution_count": 66,
   "id": "a6b840b9-8e86-4b2a-a372-286d8b752350",
   "metadata": {},
   "outputs": [
    {
     "name": "stdout",
     "output_type": "stream",
     "text": [
      "1\n",
      "2\n",
      "3\n",
      "4\n",
      "5\n",
      "6\n",
      "7\n",
      "8\n",
      "9\n",
      "10\n"
     ]
    }
   ],
   "source": [
    "# While Loop\n",
    "# Print 1-10 in ascending order\n",
    "i=1\n",
    "while i<11:\n",
    "    print(i)\n",
    "    i=i+1"
   ]
  },
  {
   "cell_type": "code",
   "execution_count": 70,
   "id": "614d5120-09bd-421f-a266-948fc2765dee",
   "metadata": {},
   "outputs": [
    {
     "name": "stdout",
     "output_type": "stream",
     "text": [
      "10\n",
      "9\n",
      "8\n",
      "7\n",
      "6\n",
      "5\n",
      "4\n",
      "3\n",
      "2\n",
      "1\n"
     ]
    }
   ],
   "source": [
    "# Print 1-10 in decending order\n",
    "i=10\n",
    "while i>0:\n",
    "    print(i)\n",
    "    i=i-1"
   ]
  },
  {
   "cell_type": "code",
   "execution_count": 73,
   "id": "cdc38c06-4e2c-4b87-8875-e47a188a2c4f",
   "metadata": {},
   "outputs": [
    {
     "name": "stdout",
     "output_type": "stream",
     "text": [
      "1\n"
     ]
    }
   ],
   "source": [
    "# break function\n",
    "i=1\n",
    "while i<11:\n",
    "    print(i)\n",
    "    break\n",
    "    i=i+1"
   ]
  },
  {
   "cell_type": "code",
   "execution_count": 2,
   "id": "5a037cde-ea35-43d7-8b1f-54ea1888e86d",
   "metadata": {},
   "outputs": [
    {
     "name": "stdout",
     "output_type": "stream",
     "text": [
      "2\n",
      "3\n",
      "4\n",
      "5\n",
      "6\n",
      "7\n",
      "8\n",
      "9\n",
      "10\n",
      "11\n"
     ]
    }
   ],
   "source": [
    "# Continue function\n",
    "i=1\n",
    "while i<11:\n",
    "    i=i+1\n",
    "    print(i)\n",
    "    continue"
   ]
  },
  {
   "cell_type": "code",
   "execution_count": 3,
   "id": "8a68b437-42ea-4260-9508-f6b52fe47b28",
   "metadata": {},
   "outputs": [
    {
     "name": "stdout",
     "output_type": "stream",
     "text": [
      "My function called\n"
     ]
    }
   ],
   "source": [
    "# function in Python\n",
    "# create function to print statement\n",
    "def myfunction():\n",
    "    print(\"My function called\")\n",
    "\n",
    "# call the function by name\n",
    "myfunction()"
   ]
  },
  {
   "cell_type": "code",
   "execution_count": 7,
   "id": "2a6d7249-6167-4108-84b8-b5741fc6d9d8",
   "metadata": {},
   "outputs": [
    {
     "name": "stdin",
     "output_type": "stream",
     "text": [
      "Enter the value: 4\n",
      "Enter the value: 6\n"
     ]
    },
    {
     "name": "stdout",
     "output_type": "stream",
     "text": [
      "The area is: 24\n"
     ]
    }
   ],
   "source": [
    "# To calculate the Area\n",
    "x =int(input(\"Enter the value:\"))\n",
    "y =int(input(\"Enter the value:\"))\n",
    "def multiply(x,y):\n",
    "    z =x*y\n",
    "    print(\"The area is:\",z)\n",
    "multiply(x,y)    "
   ]
  },
  {
   "cell_type": "code",
   "execution_count": 9,
   "id": "54bb7e2c-80a4-42dd-a9ad-147d3df4f5ba",
   "metadata": {},
   "outputs": [
    {
     "name": "stdin",
     "output_type": "stream",
     "text": [
      "Enter the value: 4\n",
      "Enter the value: 6\n"
     ]
    },
    {
     "name": "stdout",
     "output_type": "stream",
     "text": [
      "The area is: 24\n",
      "The area is: None\n"
     ]
    }
   ],
   "source": [
    "x =int(input(\"Enter the value:\"))\n",
    "y =int(input(\"Enter the value:\"))\n",
    "def multiply(x,y):\n",
    "    return x*y\n",
    "    \n",
    "area =multiply(x,y)\n",
    "print(\"The area is:\",area)"
   ]
  },
  {
   "cell_type": "code",
   "execution_count": null,
   "id": "1171d5b0-e1d5-458e-b130-d1c54d847989",
   "metadata": {},
   "outputs": [],
   "source": []
  }
 ],
 "metadata": {
  "kernelspec": {
   "display_name": "Python 3 (ipykernel)",
   "language": "python",
   "name": "python3"
  },
  "language_info": {
   "codemirror_mode": {
    "name": "ipython",
    "version": 3
   },
   "file_extension": ".py",
   "mimetype": "text/x-python",
   "name": "python",
   "nbconvert_exporter": "python",
   "pygments_lexer": "ipython3",
   "version": "3.12.6"
  }
 },
 "nbformat": 4,
 "nbformat_minor": 5
}
