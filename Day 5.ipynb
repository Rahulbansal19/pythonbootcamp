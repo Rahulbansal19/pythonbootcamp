{
 "cells": [
  {
   "cell_type": "code",
   "execution_count": 5,
   "id": "09e076d8-c999-474d-9e91-0537cafdc74f",
   "metadata": {},
   "outputs": [
    {
     "ename": "NameError",
     "evalue": "name 'x' is not defined",
     "output_type": "error",
     "traceback": [
      "\u001b[1;31m---------------------------------------------------------------------------\u001b[0m",
      "\u001b[1;31mNameError\u001b[0m                                 Traceback (most recent call last)",
      "Cell \u001b[1;32mIn[5], line 2\u001b[0m\n\u001b[0;32m      1\u001b[0m \u001b[38;5;66;03m# Exception Handling\u001b[39;00m\n\u001b[1;32m----> 2\u001b[0m \u001b[38;5;28mprint\u001b[39m(\u001b[43mx\u001b[49m)\n",
      "\u001b[1;31mNameError\u001b[0m: name 'x' is not defined"
     ]
    }
   ],
   "source": [
    "# Exception Handling\n",
    "\n",
    "print(x)"
   ]
  },
  {
   "cell_type": "code",
   "execution_count": 6,
   "id": "6944ed06-40b1-4f61-9368-a362e977b878",
   "metadata": {},
   "outputs": [
    {
     "name": "stdout",
     "output_type": "stream",
     "text": [
      "Something went wrong\n"
     ]
    }
   ],
   "source": [
    "try:\n",
    "    print(x)\n",
    "except NameError:\n",
    "    print(\"Something went wrong\")"
   ]
  },
  {
   "cell_type": "code",
   "execution_count": 7,
   "id": "2b8f4ebf-c042-47b0-8de1-721acf480399",
   "metadata": {},
   "outputs": [
    {
     "ename": "ZeroDivisionError",
     "evalue": "division by zero",
     "output_type": "error",
     "traceback": [
      "\u001b[1;31m---------------------------------------------------------------------------\u001b[0m",
      "\u001b[1;31mZeroDivisionError\u001b[0m                         Traceback (most recent call last)",
      "Cell \u001b[1;32mIn[7], line 1\u001b[0m\n\u001b[1;32m----> 1\u001b[0m x \u001b[38;5;241m=\u001b[39m\u001b[38;5;241;43m1\u001b[39;49m\u001b[38;5;241;43m/\u001b[39;49m\u001b[38;5;241;43m0\u001b[39;49m\n\u001b[0;32m      2\u001b[0m \u001b[38;5;28mprint\u001b[39m(x)\n\u001b[0;32m      3\u001b[0m \u001b[38;5;28mprint\u001b[39m(y)\n",
      "\u001b[1;31mZeroDivisionError\u001b[0m: division by zero"
     ]
    }
   ],
   "source": [
    "x =1/0\n",
    "print(x)\n",
    "print(y)"
   ]
  },
  {
   "cell_type": "code",
   "execution_count": 8,
   "id": "36bbf4b0-155f-4b53-bb56-680201a34d30",
   "metadata": {},
   "outputs": [
    {
     "ename": "NameError",
     "evalue": "name 'y' is not defined",
     "output_type": "error",
     "traceback": [
      "\u001b[1;31m---------------------------------------------------------------------------\u001b[0m",
      "\u001b[1;31mNameError\u001b[0m                                 Traceback (most recent call last)",
      "Cell \u001b[1;32mIn[8], line 1\u001b[0m\n\u001b[1;32m----> 1\u001b[0m \u001b[38;5;28mprint\u001b[39m(\u001b[43my\u001b[49m)\n\u001b[0;32m      2\u001b[0m x \u001b[38;5;241m=\u001b[39m\u001b[38;5;241m1\u001b[39m\u001b[38;5;241m/\u001b[39m\u001b[38;5;241m0\u001b[39m\n\u001b[0;32m      3\u001b[0m \u001b[38;5;28mprint\u001b[39m(x)\n",
      "\u001b[1;31mNameError\u001b[0m: name 'y' is not defined"
     ]
    }
   ],
   "source": [
    "print(y)\n",
    "x =1/0\n",
    "print(x)"
   ]
  },
  {
   "cell_type": "code",
   "execution_count": 10,
   "id": "3fb93893-7668-4737-af3b-c148860fa917",
   "metadata": {},
   "outputs": [
    {
     "ename": "NameError",
     "evalue": "name 'y' is not defined",
     "output_type": "error",
     "traceback": [
      "\u001b[1;31m---------------------------------------------------------------------------\u001b[0m",
      "\u001b[1;31mNameError\u001b[0m                                 Traceback (most recent call last)",
      "Cell \u001b[1;32mIn[10], line 1\u001b[0m\n\u001b[1;32m----> 1\u001b[0m \u001b[38;5;28mprint\u001b[39m(\u001b[43my\u001b[49m)\n\u001b[0;32m      2\u001b[0m \u001b[38;5;28;01mtry\u001b[39;00m:\n\u001b[0;32m      3\u001b[0m     x \u001b[38;5;241m=\u001b[39m\u001b[38;5;241m1\u001b[39m\u001b[38;5;241m/\u001b[39m\u001b[38;5;241m0\u001b[39m\n",
      "\u001b[1;31mNameError\u001b[0m: name 'y' is not defined"
     ]
    }
   ],
   "source": [
    "print(y)\n",
    "try:\n",
    "    x =1/0\n",
    "    print(x)\n",
    "except ZeroDivisionError:\n",
    "    print(\"zero division error\")"
   ]
  },
  {
   "cell_type": "code",
   "execution_count": 11,
   "id": "07b4db16-ca97-4840-821a-e9aba6ec4e66",
   "metadata": {},
   "outputs": [
    {
     "name": "stdout",
     "output_type": "stream",
     "text": [
      "zero division error\n"
     ]
    }
   ],
   "source": [
    "try:\n",
    "    x =1/0\n",
    "    print(y)\n",
    "    print(x)\n",
    "except ZeroDivisionError:\n",
    "    print(\"zero division error\")\n",
    "except NameError:\n",
    "    print(\"y is not defined\")"
   ]
  },
  {
   "cell_type": "code",
   "execution_count": 14,
   "id": "bd2aba81-7ec0-4bee-9af1-38aec242aa0c",
   "metadata": {},
   "outputs": [
    {
     "name": "stdin",
     "output_type": "stream",
     "text": [
      "Enter your name 218gf\n"
     ]
    },
    {
     "name": "stdout",
     "output_type": "stream",
     "text": [
      "Invalid input.Please enter alphabets only\n"
     ]
    },
    {
     "name": "stdin",
     "output_type": "stream",
     "text": [
      "Enter your name Rahul\n"
     ]
    },
    {
     "name": "stdout",
     "output_type": "stream",
     "text": [
      "Hello.Rahul!\n"
     ]
    }
   ],
   "source": [
    "def InputAlphabetOnly(name):\n",
    "    while True:\n",
    "        user_input = input(name)\n",
    "        if user_input.isalpha():\n",
    "            return user_input\n",
    "        else:\n",
    "            print(\"Invalid input.Please enter alphabets only\")\n",
    "name = InputAlphabetOnly(\"Enter your name\")\n",
    "print(f\"Hello.{name}!\")"
   ]
  },
  {
   "cell_type": "code",
   "execution_count": 15,
   "id": "89b3247d-da97-4f18-b973-211bd2277026",
   "metadata": {},
   "outputs": [
    {
     "name": "stdin",
     "output_type": "stream",
     "text": [
      "Enter your name RAhul\n"
     ]
    },
    {
     "name": "stdout",
     "output_type": "stream",
     "text": [
      "Invalid input.Please enter alphabets only\n"
     ]
    },
    {
     "name": "stdin",
     "output_type": "stream",
     "text": [
      "Enter your name 12345\n"
     ]
    },
    {
     "name": "stdout",
     "output_type": "stream",
     "text": [
      "Hello.12345!\n"
     ]
    }
   ],
   "source": [
    "def InputAlphabetOnly(name):\n",
    "    while True:\n",
    "        user_input = input(name)\n",
    "        if user_input.isnumeric():\n",
    "            return user_input\n",
    "        else:\n",
    "            print(\"Invalid input.Please enter alphabets only\")\n",
    "name = InputAlphabetOnly(\"Enter your name\")\n",
    "print(f\"Hello.{name}!\")"
   ]
  },
  {
   "cell_type": "code",
   "execution_count": null,
   "id": "c705566e-6ee6-4509-942a-88953df47ecf",
   "metadata": {},
   "outputs": [],
   "source": []
  },
  {
   "cell_type": "code",
   "execution_count": 35,
   "id": "04e99c34-a0ad-40bc-88ba-fa218687cd20",
   "metadata": {},
   "outputs": [
    {
     "name": "stdout",
     "output_type": "stream",
     "text": [
      "[ 2  4  6  8 10]\n"
     ]
    }
   ],
   "source": [
    "# Numpy \n",
    "\n",
    "import numpy as np\n",
    "# Creating array using numpy\n",
    "arr =np.array([2,4,6,8,10])\n",
    "print(arr)"
   ]
  },
  {
   "cell_type": "code",
   "execution_count": 36,
   "id": "94ecec14-70ee-4f49-9f53-4b010589e673",
   "metadata": {},
   "outputs": [
    {
     "name": "stdout",
     "output_type": "stream",
     "text": [
      "<class 'numpy.ndarray'>\n"
     ]
    }
   ],
   "source": [
    "print(type(arr))"
   ]
  },
  {
   "cell_type": "code",
   "execution_count": 37,
   "id": "e4944243-e37b-450f-9757-73a133206d10",
   "metadata": {},
   "outputs": [
    {
     "name": "stdout",
     "output_type": "stream",
     "text": [
      "10\n"
     ]
    }
   ],
   "source": [
    "# To print max element in array\n",
    "print(arr.max())"
   ]
  },
  {
   "cell_type": "code",
   "execution_count": 38,
   "id": "aa4c5ee0-a80d-4b20-91ee-9a18b7165e19",
   "metadata": {},
   "outputs": [
    {
     "name": "stdout",
     "output_type": "stream",
     "text": [
      "2\n"
     ]
    }
   ],
   "source": [
    "# To print min. element in array\n",
    "print(arr.min())"
   ]
  },
  {
   "cell_type": "code",
   "execution_count": 39,
   "id": "bb720e2a-5d7f-4128-8ab0-da099c1f71a1",
   "metadata": {},
   "outputs": [
    {
     "name": "stdout",
     "output_type": "stream",
     "text": [
      "6.0\n"
     ]
    }
   ],
   "source": [
    "# To print mean from array.\n",
    "print(arr.mean())"
   ]
  },
  {
   "cell_type": "code",
   "execution_count": 40,
   "id": "a81f260f-a7fb-4af1-ab5d-0e6aba63e839",
   "metadata": {},
   "outputs": [
    {
     "name": "stdout",
     "output_type": "stream",
     "text": [
      "Before [ 2  4  6  8 10 16 14 24 18 20]\n",
      "After [ 2  4  6  8 10 14 16 18 20 24]\n"
     ]
    }
   ],
   "source": [
    "# To sort the array\n",
    "arr1 =np.array([2,4,6,8,10,16,14,24,18,20])\n",
    "print(\"Before\",arr1)\n",
    "arr1.sort()\n",
    "print(\"After\",arr1)"
   ]
  },
  {
   "cell_type": "code",
   "execution_count": 41,
   "id": "d4e826d4-65c3-4b04-be0f-4c2a45be035e",
   "metadata": {},
   "outputs": [
    {
     "name": "stdout",
     "output_type": "stream",
     "text": [
      "Before: [ 2  4  6  8 10 14 16 18 20 24]\n",
      "After: [24 20 18 16 14 10  8  6  4  2]\n"
     ]
    }
   ],
   "source": [
    "# Sort the array in descending order\n",
    "print(\"Before:\", arr1)\n",
    "arr1.sort()\n",
    "arr1 = arr1[::-1]\n",
    "print(\"After:\", arr1)"
   ]
  },
  {
   "cell_type": "code",
   "execution_count": null,
   "id": "ed27c353-165d-4406-b34b-5fa6db2cbc7d",
   "metadata": {},
   "outputs": [],
   "source": []
  },
  {
   "cell_type": "code",
   "execution_count": 7,
   "id": "cdb376ac-1624-4efc-bd17-b8ef73625aad",
   "metadata": {},
   "outputs": [
    {
     "data": {
      "image/png": "[encoded data removed]",
      "text/plain": [
       "<Figure size 640x480 with 1 Axes>"
      ]
     },
     "metadata": {},
     "output_type": "display_data"
    }
   ],
   "source": [
    "# Matplotlib\n",
    "import matplotlib.pyplot as plt\n",
    "x= [1,2,3,4,5]\n",
    "y= [2,4,6,8,10]\n",
    "plt.title(\"Student Graph\")\n",
    "plt.plot(x,y)\n",
    "plt.show()"
   ]
  },
  {
   "cell_type": "code",
   "execution_count": 9,
   "id": "9a0aae8e-635f-4477-b660-cff0eab2f7c4",
   "metadata": {},
   "outputs": [
    {
     "data": {
      "image/png": "[encoded data removed]",
      "text/plain": [
       "<Figure size 640x480 with 1 Axes>"
      ]
     },
     "metadata": {},
     "output_type": "display_data"
    }
   ],
   "source": [
    "plt.xlabel(\"student Performance\")\n",
    "plt.ylabel(\"Semester\")\n",
    "plt.plot(x,y)\n",
    "plt.show()"
   ]
  },
  {
   "cell_type": "code",
   "execution_count": 17,
   "id": "e622dd77-c40c-4550-aed4-f6f5eed73c6b",
   "metadata": {},
   "outputs": [
    {
     "data": {
      "image/png": "[encoded data removed]",
      "text/plain": [
       "<Figure size 640x480 with 1 Axes>"
      ]
     },
     "metadata": {},
     "output_type": "display_data"
    }
   ],
   "source": [
    "x= [1,2,3,4,5]\n",
    "plt.pie(x)\n",
    "plt.title(\"Student Graph\")\n",
    "plt.plot()\n",
    "plt.show()"
   ]
  },
  {
   "cell_type": "code",
   "execution_count": null,
   "id": "b59bae3c-cbe3-4a38-b058-a17a1b393384",
   "metadata": {},
   "outputs": [],
   "source": []
  }
 ],
 "metadata": {
  "kernelspec": {
   "display_name": "Python 3 (ipykernel)",
   "language": "python",
   "name": "python3"
  },
  "language_info": {
   "codemirror_mode": {
    "name": "ipython",
    "version": 3
   },
   "file_extension": ".py",
   "mimetype": "text/x-python",
   "name": "python",
   "nbconvert_exporter": "python",
   "pygments_lexer": "ipython3",
   "version": "3.12.6"
  }
 },
 "nbformat": 4,
 "nbformat_minor": 5
}
