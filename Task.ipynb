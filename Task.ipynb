{
 "cells": [
  {
   "cell_type": "code",
   "execution_count": 2,
   "id": "6669da0c-7bc1-4108-9c6a-6a05cbc268bf",
   "metadata": {},
   "outputs": [
    {
     "name": "stdin",
     "output_type": "stream",
     "text": [
      "Enter your birth year:  2003\n",
      "Enter your birth month:  05\n",
      "Enter your birth day:  19\n"
     ]
    },
    {
     "name": "stdout",
     "output_type": "stream",
     "text": [
      "You are 7792 days old.\n"
     ]
    }
   ],
   "source": [
    "# Number of Days you are old.\n",
    "from datetime import datetime\n",
    "\n",
    "# Get the user's birthdate as input\n",
    "year = int(input(\"Enter your birth year: \"))\n",
    "month = int(input(\"Enter your birth month: \"))\n",
    "day = int(input(\"Enter your birth day: \"))\n",
    "\n",
    "# Create a datetime object for the birthdate\n",
    "birthdate = datetime(year=year, month=month, day=day)\n",
    "\n",
    "# Get today's date\n",
    "today = datetime.today()\n",
    "\n",
    "# Calculate the difference in days\n",
    "age_in_days = (today - birthdate).days\n",
    "\n",
    "print(f\"You are {age_in_days} days old.\")"
   ]
  },
  {
   "cell_type": "code",
   "execution_count": 7,
   "id": "9777d107-78b7-403c-a16d-75bfe7339f41",
   "metadata": {},
   "outputs": [
    {
     "name": "stdin",
     "output_type": "stream",
     "text": [
      "Enter a number to compute its factorial:  6\n"
     ]
    },
    {
     "name": "stdout",
     "output_type": "stream",
     "text": [
      "Factorial of 6 is 720\n"
     ]
    }
   ],
   "source": [
    "# Factorial of n numbers.\n",
    "def factorial(n):\n",
    "    # Ensure that n is a non-negative integer\n",
    "    if n < 0:\n",
    "        return \"Factorial is not defined for negative numbers.\"\n",
    "    elif n == 0 or n == 1:\n",
    "        return 1\n",
    "    else:\n",
    "        result = 1\n",
    "        for i in range(2, n + 1):\n",
    "            result *= i\n",
    "        return result\n",
    "\n",
    "# Test the function\n",
    "n = int(input(\"Enter a number to compute its factorial: \"))\n",
    "print(f\"Factorial of {n} is {factorial(n)}\")"
   ]
  },
  {
   "cell_type": "code",
   "execution_count": 24,
   "id": "dc8d435f-78b4-46d8-927d-a981988eeab1",
   "metadata": {},
   "outputs": [
    {
     "name": "stdout",
     "output_type": "stream",
     "text": [
      "Excel file 'excel_file.xlsx' created successfully.\n"
     ]
    }
   ],
   "source": [
    "# Create a Excel file.\n",
    "import pandas as pd\n",
    "\n",
    "# Create a dictionary with data\n",
    "data = {\n",
    "    'Name': ['Rahul'],\n",
    "    'College Name'  : ['I.T.S'],\n",
    "    'Email': ['rb19@gmail.com']\n",
    "}\n",
    "\n",
    "# Create a DataFrame\n",
    "df = pd.DataFrame(data)\n",
    "\n",
    "# Write the DataFrame to an Excel file\n",
    "df.to_excel(\"excel_file.xlsx\", index=False)\n",
    "\n",
    "print(\"Excel file 'excel_file.xlsx' created successfully.\")\n"
   ]
  },
  {
   "cell_type": "code",
   "execution_count": 21,
   "id": "7152ae66-f1e9-40dc-a754-d0695e509a7c",
   "metadata": {},
   "outputs": [
    {
     "name": "stdout",
     "output_type": "stream",
     "text": [
      "CSV file 'csv_file.csv' created successfully.\n"
     ]
    }
   ],
   "source": [
    "# Create csv file.\n",
    "import pandas as pd\n",
    "\n",
    "# Create a dictionary with data\n",
    "data = {\n",
    "    'Name': ['Rahul'],\n",
    "    'College Name': ['I.T.S'],\n",
    "    'Email': ['rb19@gmail.com']\n",
    "}\n",
    "\n",
    "# Create a DataFrame\n",
    "df = pd.DataFrame(data)\n",
    "\n",
    "# Write the DataFrame to a CSV file\n",
    "df.to_csv(\"csv_file.csv\", index=False)\n",
    "\n",
    "print(\"CSV file 'csv_file.csv' created successfully.\")\n"
   ]
  },
  {
   "cell_type": "code",
   "execution_count": 22,
   "id": "cb91672d-a630-405f-8bb9-19132cc66c97",
   "metadata": {},
   "outputs": [
    {
     "name": "stdout",
     "output_type": "stream",
     "text": [
      "JSON file 'json_file.json' created successfully.\n"
     ]
    }
   ],
   "source": [
    "# Create json file.\n",
    "import json\n",
    "\n",
    "# Create a list of dictionaries with data\n",
    "data = [\n",
    "    {\"Name\": \"Rahul\", \"College Name\": \"I.T.S\", \"Email\": \"rb19@gmail.com\"}\n",
    "]\n",
    "\n",
    "# Write the data to a JSON file\n",
    "with open(\"json_file.json\", \"w\") as json_file:\n",
    "    json.dump(data, json_file, indent=4)\n",
    "\n",
    "print(\"JSON file 'json_file.json' created successfully.\")\n"
   ]
  },
  {
   "cell_type": "code",
   "execution_count": 8,
   "id": "75014aa6-26e7-4d38-a5bb-b892186ac913",
   "metadata": {},
   "outputs": [
    {
     "name": "stdout",
     "output_type": "stream",
     "text": [
      "Your 6-digit OTP is: 330836\n"
     ]
    }
   ],
   "source": [
    "# 6 Digit OTP Generator\n",
    "import random\n",
    "\n",
    "def generate_otp():\n",
    "    otp = random.randint(100000, 999999)\n",
    "    return otp\n",
    "\n",
    "# Generate and print a 6-digit OTP\n",
    "otp = generate_otp()\n",
    "print(f\"Your 6-digit OTP is: {otp}\")"
   ]
  },
  {
   "cell_type": "code",
   "execution_count": null,
   "id": "0bc2e537-6154-4f9b-8ded-c329d93546f9",
   "metadata": {},
   "outputs": [],
   "source": []
  }
 ],
 "metadata": {
  "kernelspec": {
   "display_name": "Python 3 (ipykernel)",
   "language": "python",
   "name": "python3"
  },
  "language_info": {
   "codemirror_mode": {
    "name": "ipython",
    "version": 3
   },
   "file_extension": ".py",
   "mimetype": "text/x-python",
   "name": "python",
   "nbconvert_exporter": "python",
   "pygments_lexer": "ipython3",
   "version": "3.12.6"
  }
 },
 "nbformat": 4,
 "nbformat_minor": 5
}
